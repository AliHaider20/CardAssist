{
 "cells": [
  {
   "cell_type": "code",
   "execution_count": 6,
   "id": "6b311399",
   "metadata": {},
   "outputs": [
    {
     "name": "stderr",
     "output_type": "stream",
     "text": [
      "Generating embeddings: 100%|██████████| 161/161 [00:01<00:00, 123.97it/s]\n"
     ]
    }
   ],
   "source": [
    "# Standard Library\n",
    "import asyncio\n",
    "import os\n",
    "\n",
    "# Third-Party Libraries\n",
    "import faiss\n",
    "import numpy as np\n",
    "from dotenv import load_dotenv\n",
    "from sentence_transformers import SentenceTransformer\n",
    "from tqdm import tqdm\n",
    "import torch\n",
    "\n",
    "# Langchain\n",
    "from langchain.text_splitter import MarkdownTextSplitter\n",
    "from langchain_community.document_loaders import PyPDFLoader\n",
    "\n",
    "# Semantic Kernel\n",
    "from semantic_kernel.connectors.ai.function_choice_behavior import FunctionChoiceBehavior\n",
    "from semantic_kernel.connectors.ai.open_ai import AzureChatPromptExecutionSettings\n",
    "from semantic_kernel.functions.kernel_arguments import KernelArguments\n",
    "\n",
    "# Event Loop Patch for Jupyter\n",
    "import nest_asyncio\n",
    "\n",
    "# Load environment variables\n",
    "load_dotenv()\n",
    "\n",
    "search_api = os.getenv(\"AI_SEARCH_API\")\n",
    "search_endpoint = \"https://cardassist.search.windows.net\"\n",
    "ai_foundry_api = os.getenv(\"AI_FOUNDRY_MODEL_API\")\n",
    "llm_endpoint = os.getenv(\"LLM_ENDPOINT\")\n",
    "\n",
    "# Patch the event loop for Jupyter compatibility\n",
    "nest_asyncio.apply()\n",
    "\n",
    "pdf_doc_path = \"./global_card_access_user_guide.pdf\"\n",
    "loader = PyPDFLoader(pdf_doc_path)\n",
    "documents = loader.load()\n",
    "text_splitter = MarkdownTextSplitter(chunk_size=300, chunk_overlap=30)\n",
    "md_docs = text_splitter.split_documents(documents)\n",
    "md_docs = [doc.page_content for doc in md_docs]\n",
    "\n",
    "\n",
    "# Initialize embedding model\n",
    "device = \"mps\" if torch.backends.mps.is_available() else \"cuda\" if torch.cuda.is_available() else \"cpu\"\n",
    "\n",
    "embedding_service = SentenceTransformer(\"sentence-transformers/all-MiniLM-L6-v2\", device=device, model_kwargs={\"trust_remote_code\": True})\n",
    "\n",
    "# Generate and index embeddings\n",
    "embedding_matrix = np.array(\n",
    "    [embedding_service.encode([doc])[0] for doc in tqdm(md_docs, desc=\"Generating embeddings\")]\n",
    ").astype(\"float32\")\n",
    "\n",
    "index = faiss.IndexFlatL2(embedding_matrix.shape[1])\n",
    "index.add(embedding_matrix)"
   ]
  },
  {
   "cell_type": "markdown",
   "id": "f84c51fa",
   "metadata": {},
   "source": [
    "## Creating plugins for Activate, De-activate credit card and RAG QA "
   ]
  },
  {
   "cell_type": "code",
   "execution_count": 7,
   "id": "31350ee2",
   "metadata": {},
   "outputs": [],
   "source": [
    "from typing import Annotated\n",
    "from semantic_kernel.functions import kernel_function\n",
    "\n",
    "class CreditCardPlugin:\n",
    "    @kernel_function(\n",
    "        description=\"Deactivate a credit card; returns a confirmation message\"\n",
    "    )\n",
    "    async def deactivate_card(self, card_number: Annotated[str, \"The credit card number to deactivate\"]) -> str:\n",
    "        print(\"Function called to deactivate card\")\n",
    "        return f\"Credit card {card_number} has been deactivated.\"\n",
    "\n",
    "    @kernel_function(\n",
    "        description=\"Activate a credit card; returns a confirmation message\"\n",
    "    )\n",
    "    async def activate_card(self, card_number: Annotated[str, \"The credit card number to activate\"]) -> str:\n",
    "        print(\"Function called to activate card\")\n",
    "        return f\"Credit card {card_number} has been activated.\"\n",
    "    \n",
    "    @kernel_function(\n",
    "        description=\"Get card information and other general information about the card and account management\"\n",
    "    )\n",
    "    async def rag_query(self, query: Annotated[str, \"The user query for RAG (Retrieval-Augmented Generation)\"]):\n",
    "        print(\"Function called for RAG query\")\n",
    "        query_embedding = embedding_service.encode([query])\n",
    "        query_embedding = np.array(query_embedding).astype(\"float32\")\n",
    "\n",
    "        k = 10\n",
    "        distances, indices = index.search(query_embedding, k)\n",
    "        relevant_chunks = [md_docs[i] for i in indices[0]]\n",
    "\n",
    "        context = \"\\n\".join(relevant_chunks)\n",
    "        augmented_prompt = f\"{context}\\n\\nUser Query: {query}\"\n",
    "        \n",
    "        return augmented_prompt"
   ]
  },
  {
   "cell_type": "markdown",
   "id": "eac11dac",
   "metadata": {},
   "source": [
    "## Initializing Agent\n"
   ]
  },
  {
   "cell_type": "code",
   "execution_count": null,
   "id": "664196c2",
   "metadata": {},
   "outputs": [],
   "source": [
    "from semantic_kernel import Kernel\n",
    "from semantic_kernel.connectors.ai.open_ai import AzureChatCompletion\n",
    "from semantic_kernel.core_plugins.time_plugin import TimePlugin\n",
    "\n",
    "# Initialize the kernel\n",
    "kernel = Kernel()\n",
    "\n",
    "model_id = \"gpt-4o-mini\"\n",
    "\n",
    "# Add the Azure OpenAI chat completion service\n",
    "kernel.add_service(\n",
    "    AzureChatCompletion(deployment_name=model_id,\n",
    "                        endpoint=llm_endpoint,\n",
    "                        api_key=ai_foundry_api)\n",
    ")\n",
    "\n",
    "# Add a plugin\n",
    "kernel.add_plugin(\n",
    "    CreditCardPlugin(),\n",
    "    plugin_name=\"CreditCard\",\n",
    ")\n",
    "\n",
    "arguments = KernelArguments(\n",
    "    settings=AzureChatPromptExecutionSettings(\n",
    "        # Advertise all functions from the WeatherPlugin, DateTimePlugin, and LocationPlugin plugins to the AI model.\n",
    "        function_choice_behavior=FunctionChoiceBehavior.Auto(),\n",
    "        # function_choice_behavior=FunctionChoiceBehavior.Required(filters={\"included_functions\": [\"deactivate_card\", \"activate_card\"]}),\n",
    "        top_p= 0.9,\n",
    "        temperature=0,\n",
    "    )\n",
    ")\n",
    "\n",
    "async def run_model(user_query: str , system_prompt: str ):\n",
    "    resp = await kernel.invoke_prompt(prompt = f\"{system_prompt}\\n\\nUser Query: {user_query}\", arguments=arguments )\n",
    "    return resp.value"
   ]
  },
  {
   "cell_type": "code",
   "execution_count": 9,
   "id": "32899a0d",
   "metadata": {},
   "outputs": [
    {
     "name": "stdout",
     "output_type": "stream",
     "text": [
      "You're a helpful assistant that can answer questions about credit card management, including activating and deactivating cards, and providing information about card features and account management. Make sure you provide accurate and well structured information based on the provided context.\n"
     ]
    }
   ],
   "source": [
    "system_prompt = \"You're a helpful assistant that can answer questions about credit card management, including activating and deactivating cards, and providing information about card features and account management. Make sure you provide accurate and well structured information based on the provided context.\"\n",
    "\n",
    "print(system_prompt)"
   ]
  },
  {
   "cell_type": "markdown",
   "id": "2554c2ac",
   "metadata": {},
   "source": [
    "## Testing card activation"
   ]
  },
  {
   "cell_type": "code",
   "execution_count": 10,
   "id": "91a64ec5",
   "metadata": {},
   "outputs": [
    {
     "name": "stdout",
     "output_type": "stream",
     "text": [
      "Function called to activate card\n",
      "\n",
      "Response:\n",
      " Your credit card **1234-5678-9012-3456** has been successfully activated. If you have any other questions or need further assistance, feel free to ask!\n"
     ]
    }
   ],
   "source": [
    "user_query = \"Can you activate my credit card 1234-5678-9012-3456?\"\n",
    "\n",
    "# Run the asynchronous function\n",
    "response = asyncio.run(run_model(system_prompt=system_prompt, user_query=user_query))\n",
    "print(\"\\nResponse:\\n\", response[0].content)"
   ]
  },
  {
   "cell_type": "markdown",
   "id": "58e7773d",
   "metadata": {},
   "source": [
    "## Testing card deactivation"
   ]
  },
  {
   "cell_type": "code",
   "execution_count": 11,
   "id": "39e29f62",
   "metadata": {},
   "outputs": [
    {
     "name": "stdout",
     "output_type": "stream",
     "text": [
      "Function called to deactivate card\n",
      "\n",
      "Response:\n",
      " Your credit card ending in 3456 has been successfully deactivated. If you need any further assistance, feel free to ask!\n"
     ]
    }
   ],
   "source": [
    "user_query = \"Can you deactivate my credit card 1234-5678-9012-3456?\"\n",
    "\n",
    "# Run the asynchronous function\n",
    "response = asyncio.run(run_model(system_prompt=system_prompt, user_query=user_query))\n",
    "print(\"\\nResponse:\\n\", response[0].content)"
   ]
  },
  {
   "cell_type": "markdown",
   "id": "cf639bae",
   "metadata": {},
   "source": [
    "## Testing QA RAG"
   ]
  },
  {
   "cell_type": "code",
   "execution_count": 12,
   "id": "6d6d1530",
   "metadata": {},
   "outputs": [
    {
     "name": "stdout",
     "output_type": "stream",
     "text": [
      "Function called for RAG query\n",
      "\n",
      "Response:\n",
      " To register as a new user for a corporate account, follow these steps:\n",
      "\n",
      "1. **Access the Global Card Access Website**: Go to [Global Card Access](https://www.bankofamerica.com/globalcardaccess).\n",
      "\n",
      "2. **Initiate Registration**: On the Global Card Access sign-in screen, click on \"Register now.\" \n",
      "   - If your organization has multiple corporate accounts, a \"Select Corporate Account(s)\" window will appear. Choose the appropriate corporate account and click \"OK.\"\n",
      "\n",
      "3. **Create Account Request Key(s)**: \n",
      "   - Complete the \"Create Account Request Key\" page. \n",
      "   - Configure your Account Request Key in the Settings section. This key will be used by your employees to request accounts online.\n",
      "\n",
      "4. **Add Corporate Accounts**: \n",
      "   - To add a corporate account, click \"Add\" from the bottom left-hand side of the Corporate Accounts screen. Review and approve new account requests. Note that your company must be configured for this feature.\n",
      "\n",
      "5. **Role Assignment**: \n",
      "   - Assign roles to users as needed. Once you complete the role assignment, click \"Finish.\" \n",
      "\n",
      "6. **Welcome Email**: \n",
      "   - The user will receive a welcome email from Global Card Access containing their user ID and instructions for completing their registration.\n",
      "\n",
      "### Additional Notes:\n",
      "- Global Card Access allows self-registration, but you may not need to register if your company has set up Approval Groups and Approval Panels for account requests.\n",
      "- Each Account Request Key has specific settings that determine how an employee’s account is set up and managed, including the linked Corporate Account and the type of card they will receive upon approval.\n",
      "\n",
      "Make sure to follow these steps carefully to ensure a smooth registration process for your corporate account.\n"
     ]
    }
   ],
   "source": [
    "user_query = \"Steps for First-time Registration for Corporate Accounts\"\n",
    "\n",
    "# Run the asynchronous function\n",
    "response = asyncio.run(run_model(system_prompt=system_prompt, user_query=user_query))\n",
    "print(\"\\nResponse:\\n\", response[0].content)"
   ]
  },
  {
   "cell_type": "markdown",
   "id": "a3a25d64",
   "metadata": {},
   "source": [
    "## Hybrid query"
   ]
  },
  {
   "cell_type": "code",
   "execution_count": 13,
   "id": "17220f59",
   "metadata": {},
   "outputs": [
    {
     "name": "stdout",
     "output_type": "stream",
     "text": [
      "Function called to activate card\n",
      "Function called for RAG query\n",
      "\n",
      "Response:\n",
      " Your credit card **1234-5678-9012-3456** has been successfully activated.\n",
      "\n",
      "### Benefits and Features of Your Card:\n",
      "1. **Online Card Management**: Access to Global Card Access, an online tool that allows you to manage your card, check your credit limit, balance, and available credit.\n",
      "2. **Security Features**: Options to lock your card, manage alerts, and change your PIN for added security.\n",
      "3. **Convenient Payments**: Ability to make payments online (available for North America accounts).\n",
      "4. **Access to Statements**: View and download your statements for better financial tracking.\n",
      "5. **Customizable Account Settings**: Manage settings related to your account, including linking to corporate accounts and card types.\n",
      "\n",
      "If you have any more questions or need further assistance, feel free to ask!\n"
     ]
    }
   ],
   "source": [
    "user_query = \"Can you activate my card 1234-5678-9012-3456? Also, let me know it's benefits and features.\"\n",
    "\n",
    "# Run the asynchronous function\n",
    "response = asyncio.run(run_model(system_prompt=system_prompt, user_query=user_query))\n",
    "print(\"\\nResponse:\\n\", response[0].content)"
   ]
  },
  {
   "cell_type": "code",
   "execution_count": null,
   "id": "91ade077",
   "metadata": {},
   "outputs": [],
   "source": []
  }
 ],
 "metadata": {
  "kernelspec": {
   "display_name": "Python 3",
   "language": "python",
   "name": "python3"
  },
  "language_info": {
   "codemirror_mode": {
    "name": "ipython",
    "version": 3
   },
   "file_extension": ".py",
   "mimetype": "text/x-python",
   "name": "python",
   "nbconvert_exporter": "python",
   "pygments_lexer": "ipython3",
   "version": "3.11.8"
  }
 },
 "nbformat": 4,
 "nbformat_minor": 5
}
